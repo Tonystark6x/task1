{
 "cells": [
  {
   "cell_type": "code",
   "execution_count": 1,
   "id": "d05bc078-9b01-4ff1-9b6f-0be7d0f52719",
   "metadata": {},
   "outputs": [
    {
     "name": "stdout",
     "output_type": "stream",
     "text": [
      "True\n",
      "False\n",
      "False\n"
     ]
    }
   ],
   "source": [
    "# 1. Write a NumPy program to test whether none of the elements of a given array is zero.\n",
    "import numpy as np\n",
    "\n",
    "def none_of_elements_is_zero(arr):\n",
    "    return np.all(arr != 0)\n",
    "\n",
    "arr1 = np.array([1, 2, 3, 4])\n",
    "arr2 = np.array([1, 2, 0, 4])\n",
    "arr3 = np.array([0, 0, 0, 0])\n",
    "\n",
    "print(none_of_elements_is_zero(arr1)) \n",
    "print(none_of_elements_is_zero(arr2)) \n",
    "print(none_of_elements_is_zero(arr3)) "
   ]
  },
  {
   "cell_type": "code",
   "execution_count": 1,
   "id": "3b276b80-ae50-4ed8-9a4c-fafdd133b9d2",
   "metadata": {},
   "outputs": [
    {
     "name": "stdout",
     "output_type": "stream",
     "text": [
      "True\n",
      "False\n",
      "False\n"
     ]
    }
   ],
   "source": [
    "# 1. Write a NumPy program to test whether none of the elements of a given array is zero.\n",
    "import numpy as np\n",
    "\n",
    "def none_of_elements_is_zero(arr):\n",
    "    return np.all(arr != 0)\n",
    "\n",
    "arr1 = np.array([1, 2, 3, 4])\n",
    "arr2 = np.array([1, 2, 0, 4])\n",
    "arr3 = np.array([0, 0, 0, 0])\n",
    "\n",
    "print(none_of_elements_is_zero(arr1)) \n",
    "print(none_of_elements_is_zero(arr2)) \n",
    "print(none_of_elements_is_zero(arr3)) "
   ]
  },
  {
   "cell_type": "code",
   "execution_count": 2,
   "id": "957e7b19-2479-49ae-9d72-6bb9f2747d9b",
   "metadata": {},
   "outputs": [
    {
     "name": "stdout",
     "output_type": "stream",
     "text": [
      "True\n",
      "True\n",
      "False\n"
     ]
    }
   ],
   "source": [
    "# 2. Write a NumPy program to test whether any of the elements of a given array is non-zero.\n",
    "import numpy as np\n",
    "\n",
    "def any_element_is_nonzero(arr):\n",
    "    return np.any(arr != 0)\n",
    "\n",
    "arr1 = np.array([1, 2, 3, 4])\n",
    "arr2 = np.array([1, 2, 0, 4])\n",
    "arr3 = np.array([0, 0, 0, 0])\n",
    "\n",
    "print(any_element_is_nonzero(arr1)) \n",
    "print(any_element_is_nonzero(arr2))\n",
    "print(any_element_is_nonzero(arr3)) "
   ]
  },
  {
   "cell_type": "code",
   "execution_count": 3,
   "id": "2b471297-036a-40c8-a098-f28c7767db11",
   "metadata": {},
   "outputs": [
    {
     "name": "stdout",
     "output_type": "stream",
     "text": [
      "Equal: False\n",
      "Equal within tolerance: True\n"
     ]
    }
   ],
   "source": [
    "# 3. Write a NumPy program to create an element-wise comparison (equal, equal within a tolerance) of two given \n",
    "import numpy as np\n",
    "\n",
    "arr1 = np.array([1.0, 2.0, 3.0])\n",
    "arr2 = np.array([1.0, 2.0, 3.001])\n",
    "\n",
    "equal = np.all(arr1 == arr2)\n",
    "equal_within_tol = np.allclose(arr1, arr2, rtol=1e-02, atol=1e-02)\n",
    "\n",
    "print(\"Equal:\", equal)\n",
    "print(\"Equal within tolerance:\", equal_within_tol)"
   ]
  },
  {
   "cell_type": "code",
   "execution_count": 4,
   "id": "3d0e2a3c-0394-4ab0-8acb-b64ecef49b13",
   "metadata": {},
   "outputs": [
    {
     "name": "stdout",
     "output_type": "stream",
     "text": [
      "[0. 0. 0. 0. 0. 0. 0. 0. 0. 0. 1. 1. 1. 1. 1. 1. 1. 1. 1. 1. 5. 5. 5. 5.\n",
      " 5. 5. 5. 5. 5. 5.]\n"
     ]
    }
   ],
   "source": [
    "# 4. Write a NumPy program to create an array of 10 zeros,10 ones, 10 fives.\n",
    "import numpy as np\n",
    "\n",
    "zeros_arr = np.zeros(10)\n",
    "ones_arr = np.ones(10)\n",
    "fives_arr = np.full(10, 5)\n",
    "\n",
    "result_arr = np.concatenate((zeros_arr, ones_arr, fives_arr))\n",
    "\n",
    "print(result_arr)"
   ]
  },
  {
   "cell_type": "code",
   "execution_count": 5,
   "id": "9b5e752f-4c25-42cb-bdd3-439e1ca58986",
   "metadata": {},
   "outputs": [
    {
     "name": "stdout",
     "output_type": "stream",
     "text": [
      "[30 31 32 33 34 35 36 37 38 39 40 41 42 43 44 45 46 47 48 49 50 51 52 53\n",
      " 54 55 56 57 58 59 60 61 62 63 64 65 66 67 68 69 70]\n"
     ]
    }
   ],
   "source": [
    "# 5. Write a NumPy program to create an array of the integers from 30 to70.\n",
    "import numpy as np\n",
    "\n",
    "result_arr = np.arange(30, 71)\n",
    "print(result_arr)"
   ]
  },
  {
   "cell_type": "code",
   "execution_count": 6,
   "id": "66dcc8cd-c5ac-48ec-a973-e32216db9e29",
   "metadata": {},
   "outputs": [
    {
     "name": "stdout",
     "output_type": "stream",
     "text": [
      "[[1. 0. 0.]\n",
      " [0. 1. 0.]\n",
      " [0. 0. 1.]]\n"
     ]
    }
   ],
   "source": [
    "# 6. Write a NumPy program to create a 3x3 identity matrix \n",
    "import numpy as np\n",
    "\n",
    "result_arr = np.identity(3)\n",
    "\n",
    "print(result_arr)\n"
   ]
  },
  {
   "cell_type": "code",
   "execution_count": 7,
   "id": "5f90afb1-ecd7-47bc-acd0-a9e2e1f4a04b",
   "metadata": {},
   "outputs": [
    {
     "name": "stdout",
     "output_type": "stream",
     "text": [
      "0.2849958799804929\n"
     ]
    }
   ],
   "source": [
    "# 7. Write a NumPy program to generate a random number between 0 and 1 \n",
    "import numpy as np\n",
    "\n",
    "result = np.random.rand()\n",
    "\n",
    "print(result)\n"
   ]
  },
  {
   "cell_type": "code",
   "execution_count": 8,
   "id": "fb5cfb01-f9c5-4eb7-a623-0805787c47f1",
   "metadata": {},
   "outputs": [
    {
     "name": "stdout",
     "output_type": "stream",
     "text": [
      "[ 0.49671415 -0.1382643   0.64768854  1.52302986 -0.23415337 -0.23413696\n",
      "  1.57921282  0.76743473 -0.46947439  0.54256004 -0.46341769 -0.46572975\n",
      "  0.24196227 -1.91328024 -1.72491783]\n"
     ]
    }
   ],
   "source": [
    "# 8. Write a NumPy program to generate an array of 15 random numbers from a standard normal distribution \n",
    "import numpy as np\n",
    "\n",
    "np.random.seed(42)\n",
    "\n",
    "arr = np.random.randn(15)\n",
    "\n",
    "print(arr)\n"
   ]
  },
  {
   "cell_type": "code",
   "execution_count": 9,
   "id": "5aaf1ebd-ac69-4bf4-a1da-93d16030bc49",
   "metadata": {},
   "outputs": [
    {
     "name": "stdout",
     "output_type": "stream",
     "text": [
      "[16 17 18 19 20 21 22 23 24 25 26 27 28 29 30 31 32 33 34 35 36 37 38 39\n",
      " 40 41 42 43 44 45 46 47 48 49 50 51 52 53 54]\n"
     ]
    }
   ],
   "source": [
    "# 9. Write a NumPy program to create a vector with values ranging from 15 to 55 and print all values except the first and last.\n",
    "import numpy as np\n",
    "\n",
    "vector = np.arange(15, 56)\n",
    "\n",
    "print(vector[1:-1])\n"
   ]
  },
  {
   "cell_type": "code",
   "execution_count": 10,
   "id": "aa4981c1-c6e3-4905-8ef0-72ccfdc4f777",
   "metadata": {},
   "outputs": [
    {
     "name": "stdout",
     "output_type": "stream",
     "text": [
      "[10  9  2  6  3]\n"
     ]
    }
   ],
   "source": [
    "# 10. Write a NumPy program to create a vector of length 5 filled with arbitrary integers from 0 to 10\n",
    "import numpy as np\n",
    "\n",
    "vector = np.random.randint(0, 11, size=5)\n",
    "\n",
    "print(vector)\n"
   ]
  },
  {
   "cell_type": "code",
   "execution_count": 11,
   "id": "f5b391d0-8120-4355-b7f2-1057fd8e8cda",
   "metadata": {},
   "outputs": [
    {
     "name": "stdout",
     "output_type": "stream",
     "text": [
      "[[1. 1. 1. 1. 1. 1. 1. 1. 1. 1.]\n",
      " [1. 0. 0. 0. 0. 0. 0. 0. 0. 1.]\n",
      " [1. 0. 0. 0. 0. 0. 0. 0. 0. 1.]\n",
      " [1. 0. 0. 0. 0. 0. 0. 0. 0. 1.]\n",
      " [1. 0. 0. 0. 0. 0. 0. 0. 0. 1.]\n",
      " [1. 0. 0. 0. 0. 0. 0. 0. 0. 1.]\n",
      " [1. 0. 0. 0. 0. 0. 0. 0. 0. 1.]\n",
      " [1. 0. 0. 0. 0. 0. 0. 0. 0. 1.]\n",
      " [1. 0. 0. 0. 0. 0. 0. 0. 0. 1.]\n",
      " [1. 1. 1. 1. 1. 1. 1. 1. 1. 1.]]\n"
     ]
    }
   ],
   "source": [
    "# 11. Write a NumPy program to create a 10x10 matrix, in which the elements on the borders will be equal to 1, and inside 0.\n",
    "import numpy as np\n",
    "\n",
    "matrix = np.zeros((10, 10))\n",
    "\n",
    "matrix[0, :] = 1\n",
    "matrix[-1, :] = 1\n",
    "matrix[:, 0] = 1\n",
    "matrix[:, -1] = 1\n",
    "\n",
    "print(matrix)\n"
   ]
  },
  {
   "cell_type": "code",
   "execution_count": 12,
   "id": "5490a5bc-abab-4341-85f2-989aa7e664c6",
   "metadata": {},
   "outputs": [
    {
     "name": "stdout",
     "output_type": "stream",
     "text": [
      "[[1. 0. 0. 0. 0.]\n",
      " [0. 2. 0. 0. 0.]\n",
      " [0. 0. 3. 0. 0.]\n",
      " [0. 0. 0. 4. 0.]\n",
      " [0. 0. 0. 0. 5.]]\n"
     ]
    }
   ],
   "source": [
    "# 12. Write a NumPy program to create a 5x5 zero matrix with elements on the main diagonal equal to 1, 2, 3, 4, 5.\n",
    "import numpy as np\n",
    "\n",
    "matrix = np.zeros((5, 5))\n",
    "\n",
    "np.fill_diagonal(matrix, [1, 2, 3, 4, 5])\n",
    "\n",
    "print(matrix)\n"
   ]
  },
  {
   "cell_type": "code",
   "execution_count": 13,
   "id": "f2d64cb5-811e-40eb-adbf-bfdc732afac7",
   "metadata": {},
   "outputs": [
    {
     "name": "stdout",
     "output_type": "stream",
     "text": [
      "[[0. 1. 0. 1.]\n",
      " [1. 0. 1. 0.]\n",
      " [0. 1. 0. 1.]\n",
      " [1. 0. 1. 0.]]\n"
     ]
    }
   ],
   "source": [
    "# 13. Write a NumPy program to create a 4x4 matrix in which 0 and 1 are staggered, with zeros on the main diagonal.\n",
    "import numpy as np\n",
    "\n",
    "matrix = np.zeros((4, 4))\n",
    "\n",
    "matrix[::2, 1::2] = 1\n",
    "matrix[1::2, ::2] = 1\n",
    "\n",
    "print(matrix)\n"
   ]
  },
  {
   "cell_type": "code",
   "execution_count": 14,
   "id": "27ddcbda-8c8a-425e-b6b4-8964bafd4ae9",
   "metadata": {},
   "outputs": [
    {
     "name": "stdout",
     "output_type": "stream",
     "text": [
      "Array 1: [1 2 3 4 5]\n",
      "Array 2: [ 6  7  8  9 10]\n"
     ]
    }
   ],
   "source": [
    "# 14. Write a NumPy program to save two given arrays into a single file in compressed format (.npz format) and load it\n",
    "import numpy as np\n",
    "\n",
    "arr1 = np.array([1, 2, 3, 4, 5])\n",
    "arr2 = np.array([6, 7, 8, 9, 10])\n",
    "\n",
    "np.savez_compressed('my_arrays.npz', arr1=arr1, arr2=arr2)\n",
    "\n",
    "with np.load('my_arrays.npz') as data:\n",
    "    loaded_arr1 = data['arr1']\n",
    "    loaded_arr2 = data['arr2']\n",
    "\n",
    "print('Array 1:', loaded_arr1)\n",
    "print('Array 2:', loaded_arr2)\n"
   ]
  },
  {
   "cell_type": "code",
   "execution_count": 15,
   "id": "b26785f6-b257-4cc4-b398-38af4def7e2b",
   "metadata": {},
   "outputs": [
    {
     "name": "stdout",
     "output_type": "stream",
     "text": [
      "[0.59241457 0.60754485 0.94888554 0.96563203 0.80839735 0.68423303\n",
      " 0.9093204  0.66252228 0.52006802 0.54671028 0.96958463 0.77513282\n",
      " 0.93949894 0.89482735 0.59789998 0.92187424 0.82873751 0.54269608\n",
      " 0.80219698]\n"
     ]
    }
   ],
   "source": [
    "# 15. Write a NumPy program to create a one-dimensional array of forty pseudo-randomly generated values. Select \n",
    "import numpy as np\n",
    "\n",
    "rand_array = np.random.rand(40)\n",
    "\n",
    "selected_values = rand_array[rand_array > 0.5]\n",
    "\n",
    "print(selected_values)\n"
   ]
  },
  {
   "cell_type": "code",
   "execution_count": 16,
   "id": "f4c5c791-7f43-473e-a9d9-3e5498973375",
   "metadata": {},
   "outputs": [
    {
     "name": "stdout",
     "output_type": "stream",
     "text": [
      "Numbers less than 5: [1 3 2 4]\n",
      "Numbers greater than 5: [7 9 6 8]\n"
     ]
    }
   ],
   "source": [
    "# 16. Write a NumPy program to extract all numbers from a given array which are less and greater than a specified number\n",
    "import numpy as np\n",
    "\n",
    "arr = np.array([1, 3, 5, 7, 9, 2, 4, 6, 8])\n",
    "\n",
    "num = 5\n",
    "\n",
    "less_than_num = arr[arr < num]\n",
    "\n",
    "greater_than_num = arr[arr > num]\n",
    "\n",
    "print('Numbers less than {}:'.format(num), less_than_num)\n",
    "print('Numbers greater than {}:'.format(num), greater_than_num)\n"
   ]
  },
  {
   "cell_type": "code",
   "execution_count": null,
   "id": "fb558168-19b7-4d60-8a77-7fececa5eaa2",
   "metadata": {},
   "outputs": [],
   "source": []
  }
 ],
 "metadata": {
  "kernelspec": {
   "display_name": "Python 3 (ipykernel)",
   "language": "python",
   "name": "python3"
  },
  "language_info": {
   "codemirror_mode": {
    "name": "ipython",
    "version": 3
   },
   "file_extension": ".py",
   "mimetype": "text/x-python",
   "name": "python",
   "nbconvert_exporter": "python",
   "pygments_lexer": "ipython3",
   "version": "3.10.9"
  }
 },
 "nbformat": 4,
 "nbformat_minor": 5
}
